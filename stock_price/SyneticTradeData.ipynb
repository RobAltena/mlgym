{
 "cells": [
  {
   "cell_type": "code",
   "execution_count": 24,
   "metadata": {},
   "outputs": [],
   "source": [
    "import numpy as np\n",
    "import matplotlib.pyplot as plt"
   ]
  },
  {
   "cell_type": "code",
   "execution_count": 4,
   "metadata": {},
   "outputs": [],
   "source": [
    "samples = 2000\n",
    "depth   = 20"
   ]
  },
  {
   "cell_type": "code",
   "execution_count": 161,
   "metadata": {},
   "outputs": [],
   "source": [
    "class TradeGenerator:\n",
    "    def __init__(self, count=10000):\n",
    "        self.count = count\n",
    "        self.value = 100\n",
    "        self.ema = self.value\n",
    "        self.trend = np.random.uniform()\n",
    "\n",
    "        self.spike_rate = 0.80 + 0.2*np.random.uniform()\n",
    "        self.cycle_rate = 0.80 + 0.2*np.random.uniform()\n",
    "        self.trend_rate = 0.80 + 0.2*np.random.uniform()\n",
    "        \n",
    "    def __iter__(self):\n",
    "        while self.count > 0:\n",
    "            self.count -= 1\n",
    "        \n",
    "            self.value += np.random.normal() + self.trend\n",
    "\n",
    "            # spike\n",
    "            if np.random.uniform() > self.spike_rate:\n",
    "                self.value += (np.random.uniform() - 0.5)*0.3 * self.value\n",
    "\n",
    "            # cycling\n",
    "            ratio = 0.95\n",
    "            self.ema = ratio * self.ema + (1.0 - ratio) * self.value            \n",
    "            if np.random.uniform() > self.cycle_rate:\n",
    "                self.trend = (self.ema - self.value) / (np.random.uniform() * 20 + 10)\n",
    "            \n",
    "            # re-trending\n",
    "            if np.random.uniform() > self.trend_rate:\n",
    "                # trend change\n",
    "                self.trend = np.random.normal() \n",
    "                \n",
    "            if self.value < 0.0:\n",
    "                self.value = 1.0\n",
    "\n",
    "            yield(self.value)        "
   ]
  },
  {
   "cell_type": "code",
   "execution_count": 174,
   "metadata": {},
   "outputs": [
    {
     "data": {
      "image/png": "[encoded data removed]",
      "text/plain": [
       "<matplotlib.figure.Figure at 0x7faa367744a8>"
      ]
     },
     "metadata": {},
     "output_type": "display_data"
    }
   ],
   "source": [
    "x = [i for i in TradeGenerator()]\n",
    "plt.plot(x)\n",
    "plt.show()"
   ]
  },
  {
   "cell_type": "code",
   "execution_count": null,
   "metadata": {},
   "outputs": [],
   "source": []
  },
  {
   "cell_type": "code",
   "execution_count": null,
   "metadata": {},
   "outputs": [],
   "source": []
  }
 ],
 "metadata": {
  "kernelspec": {
   "display_name": "Python 3",
   "language": "python",
   "name": "python3"
  },
  "language_info": {
   "codemirror_mode": {
    "name": "ipython",
    "version": 3
   },
   "file_extension": ".py",
   "mimetype": "text/x-python",
   "name": "python",
   "nbconvert_exporter": "python",
   "pygments_lexer": "ipython3",
   "version": "3.5.2"
  }
 },
 "nbformat": 4,
 "nbformat_minor": 2
}

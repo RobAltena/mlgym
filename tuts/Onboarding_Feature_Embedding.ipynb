{
 "cells": [
  {
   "cell_type": "code",
   "execution_count": 1,
   "metadata": {
    "collapsed": true,
    "deletable": true,
    "editable": true
   },
   "outputs": [],
   "source": [
    "##################################################################################\n",
    "############################### LOADING DATA #####################################\n",
    "##################################################################################"
   ]
  },
  {
   "cell_type": "code",
   "execution_count": 2,
   "metadata": {
    "collapsed": true,
    "deletable": true,
    "editable": true
   },
   "outputs": [],
   "source": [
    "import pandas as pd\n",
    "import numpy as np\n",
    "import data_handler as dh\n",
    "\n",
    "import matplotlib.pyplot as plt\n",
    "from matplotlib import offsetbox\n",
    "%matplotlib inline"
   ]
  },
  {
   "cell_type": "code",
   "execution_count": 3,
   "metadata": {
    "collapsed": false,
    "deletable": true,
    "editable": true
   },
   "outputs": [],
   "source": [
    "train,test = dh.load_titanic(\"~/data/kaggle/titanic/\")\n",
    "x_train, y_train, x_test,  y_test = dh.clean_titanic(train,test)"
   ]
  },
  {
   "cell_type": "code",
   "execution_count": 4,
   "metadata": {
    "collapsed": false,
    "deletable": true,
    "editable": true
   },
   "outputs": [
    {
     "name": "stdout",
     "output_type": "stream",
     "text": [
      "(891, 11) (891, 1) (891, 11) (891, 1)\n"
     ]
    }
   ],
   "source": [
    "print x_train.shape, y_train.shape, x_test.shape, y_test.shape"
   ]
  },
  {
   "cell_type": "code",
   "execution_count": 5,
   "metadata": {
    "collapsed": false,
    "deletable": true,
    "editable": true
   },
   "outputs": [
    {
     "data": {
      "text/html": [
       "<div>\n",
       "<table border=\"1\" class=\"dataframe\">\n",
       "  <thead>\n",
       "    <tr style=\"text-align: right;\">\n",
       "      <th></th>\n",
       "      <th>Age</th>\n",
       "      <th>Fare</th>\n",
       "      <th>Parch</th>\n",
       "      <th>SibSp</th>\n",
       "      <th>C</th>\n",
       "      <th>Q</th>\n",
       "      <th>S</th>\n",
       "      <th>female</th>\n",
       "      <th>1</th>\n",
       "      <th>2</th>\n",
       "      <th>3</th>\n",
       "    </tr>\n",
       "  </thead>\n",
       "  <tbody>\n",
       "    <tr>\n",
       "      <th>0</th>\n",
       "      <td>22.0</td>\n",
       "      <td>7.2500</td>\n",
       "      <td>0</td>\n",
       "      <td>1</td>\n",
       "      <td>0</td>\n",
       "      <td>0</td>\n",
       "      <td>1</td>\n",
       "      <td>0</td>\n",
       "      <td>0</td>\n",
       "      <td>0</td>\n",
       "      <td>1</td>\n",
       "    </tr>\n",
       "    <tr>\n",
       "      <th>1</th>\n",
       "      <td>38.0</td>\n",
       "      <td>71.2833</td>\n",
       "      <td>0</td>\n",
       "      <td>1</td>\n",
       "      <td>1</td>\n",
       "      <td>0</td>\n",
       "      <td>0</td>\n",
       "      <td>1</td>\n",
       "      <td>1</td>\n",
       "      <td>0</td>\n",
       "      <td>0</td>\n",
       "    </tr>\n",
       "    <tr>\n",
       "      <th>2</th>\n",
       "      <td>26.0</td>\n",
       "      <td>7.9250</td>\n",
       "      <td>0</td>\n",
       "      <td>0</td>\n",
       "      <td>0</td>\n",
       "      <td>0</td>\n",
       "      <td>1</td>\n",
       "      <td>1</td>\n",
       "      <td>0</td>\n",
       "      <td>0</td>\n",
       "      <td>1</td>\n",
       "    </tr>\n",
       "    <tr>\n",
       "      <th>3</th>\n",
       "      <td>35.0</td>\n",
       "      <td>53.1000</td>\n",
       "      <td>0</td>\n",
       "      <td>1</td>\n",
       "      <td>0</td>\n",
       "      <td>0</td>\n",
       "      <td>1</td>\n",
       "      <td>1</td>\n",
       "      <td>1</td>\n",
       "      <td>0</td>\n",
       "      <td>0</td>\n",
       "    </tr>\n",
       "    <tr>\n",
       "      <th>4</th>\n",
       "      <td>35.0</td>\n",
       "      <td>8.0500</td>\n",
       "      <td>0</td>\n",
       "      <td>0</td>\n",
       "      <td>0</td>\n",
       "      <td>0</td>\n",
       "      <td>1</td>\n",
       "      <td>0</td>\n",
       "      <td>0</td>\n",
       "      <td>0</td>\n",
       "      <td>1</td>\n",
       "    </tr>\n",
       "  </tbody>\n",
       "</table>\n",
       "</div>"
      ],
      "text/plain": [
       "    Age     Fare  Parch  SibSp  C  Q  S  female  1  2  3\n",
       "0  22.0   7.2500      0      1  0  0  1       0  0  0  1\n",
       "1  38.0  71.2833      0      1  1  0  0       1  1  0  0\n",
       "2  26.0   7.9250      0      0  0  0  1       1  0  0  1\n",
       "3  35.0  53.1000      0      1  0  0  1       1  1  0  0\n",
       "4  35.0   8.0500      0      0  0  0  1       0  0  0  1"
      ]
     },
     "execution_count": 5,
     "metadata": {},
     "output_type": "execute_result"
    }
   ],
   "source": [
    "x_train.head()"
   ]
  },
  {
   "cell_type": "code",
   "execution_count": 6,
   "metadata": {
    "collapsed": false,
    "deletable": true,
    "editable": true
   },
   "outputs": [
    {
     "data": {
      "text/html": [
       "<div>\n",
       "<table border=\"1\" class=\"dataframe\">\n",
       "  <thead>\n",
       "    <tr style=\"text-align: right;\">\n",
       "      <th></th>\n",
       "      <th>Survived</th>\n",
       "    </tr>\n",
       "  </thead>\n",
       "  <tbody>\n",
       "    <tr>\n",
       "      <th>0</th>\n",
       "      <td>0.0</td>\n",
       "    </tr>\n",
       "    <tr>\n",
       "      <th>1</th>\n",
       "      <td>1.0</td>\n",
       "    </tr>\n",
       "    <tr>\n",
       "      <th>2</th>\n",
       "      <td>1.0</td>\n",
       "    </tr>\n",
       "    <tr>\n",
       "      <th>3</th>\n",
       "      <td>1.0</td>\n",
       "    </tr>\n",
       "    <tr>\n",
       "      <th>4</th>\n",
       "      <td>0.0</td>\n",
       "    </tr>\n",
       "  </tbody>\n",
       "</table>\n",
       "</div>"
      ],
      "text/plain": [
       "   Survived\n",
       "0       0.0\n",
       "1       1.0\n",
       "2       1.0\n",
       "3       1.0\n",
       "4       0.0"
      ]
     },
     "execution_count": 6,
     "metadata": {},
     "output_type": "execute_result"
    }
   ],
   "source": [
    "y_train.head()"
   ]
  },
  {
   "cell_type": "code",
   "execution_count": 7,
   "metadata": {
    "collapsed": true,
    "deletable": true,
    "editable": true
   },
   "outputs": [],
   "source": [
    "def plot_embedding(x, y):\n",
    "    x_min, x_max = np.min(x, 0), np.max(x, 0)\n",
    "    x = (x - x_min) / (x_max - x_min)\n",
    "\n",
    "    plt.figure()\n",
    "    plt.rcParams['figure.figsize'] = (6, 6)\n",
    "    ax = plt.subplot(111)\n",
    "    #for i in range(x.shape[0]):\n",
    "    #    plt.scatter(x[i, 0], x[i, 1], color=y[i])\n",
    "    \n",
    "    plt.scatter(x[:, 0], x[:, 1], c=y, s=40)\n",
    "\n",
    "    #if hasattr(offsetbox, 'AnnotationBbox'):\n",
    "    #    # only print thumbnails with matplotlib > 1.0\n",
    "    #    shown_images = np.array([[1., 1.]])  # just something big\n",
    "    #    for i in range(y.shape[0]):\n",
    "    #        dist = np.sum((x[i] - shown_images) ** 2, 1)\n",
    "    #        if np.min(dist) < 4e-3:\n",
    "    #            # don't show points that are too close\n",
    "    #            continue\n",
    "    #        shown_images = np.r_[shown_images, [X[i]]]\n",
    "    plt.xticks([]), plt.yticks([])"
   ]
  },
  {
   "cell_type": "code",
   "execution_count": 8,
   "metadata": {
    "collapsed": true,
    "deletable": true,
    "editable": true
   },
   "outputs": [],
   "source": [
    "##################################################################################\n",
    "###################### Stand prescaling (mean:0 stddev*1) ########################\n",
    "##################################################################################"
   ]
  },
  {
   "cell_type": "code",
   "execution_count": 9,
   "metadata": {
    "collapsed": true,
    "deletable": true,
    "editable": true
   },
   "outputs": [],
   "source": [
    "from sklearn import preprocessing"
   ]
  },
  {
   "cell_type": "code",
   "execution_count": 10,
   "metadata": {
    "collapsed": false,
    "deletable": true,
    "editable": true
   },
   "outputs": [
    {
     "data": {
      "text/plain": [
       "StandardScaler(copy=True, with_mean=True, with_std=True)"
      ]
     },
     "execution_count": 10,
     "metadata": {},
     "output_type": "execute_result"
    }
   ],
   "source": [
    "scaler = preprocessing.StandardScaler()\n",
    "scaler.fit(x_train)"
   ]
  },
  {
   "cell_type": "code",
   "execution_count": 14,
   "metadata": {
    "collapsed": true,
    "deletable": true,
    "editable": true
   },
   "outputs": [],
   "source": [
    "x_scaled = scaler.transform(x_train) \n",
    "x_scaled_test = scaler.transform(x_test) "
   ]
  },
  {
   "cell_type": "code",
   "execution_count": 15,
   "metadata": {
    "collapsed": false,
    "deletable": true,
    "editable": true
   },
   "outputs": [
    {
     "name": "stdout",
     "output_type": "stream",
     "text": [
      "[[-0.59525389 -0.50244517 -0.47367361  0.43279337 -0.48204268 -0.30756234\n",
      "   0.61930636 -0.73769513 -0.56568542 -0.51015154  0.90258736]\n",
      " [ 0.6359965   0.78684529 -0.47367361  0.43279337  2.0745051  -0.30756234\n",
      "  -1.61470971  1.35557354  1.76776695 -0.51015154 -1.10792599]\n",
      " [-0.28744129 -0.48885426 -0.47367361 -0.4745452  -0.48204268 -0.30756234\n",
      "   0.61930636  1.35557354 -0.56568542 -0.51015154  0.90258736]\n",
      " [ 0.40513705  0.42073024 -0.47367361  0.43279337 -0.48204268 -0.30756234\n",
      "   0.61930636  1.35557354  1.76776695 -0.51015154 -1.10792599]\n",
      " [ 0.40513705 -0.48633742 -0.47367361 -0.4745452  -0.48204268 -0.30756234\n",
      "   0.61930636 -0.73769513 -0.56568542 -0.51015154  0.90258736]\n",
      " [ 0.01122448 -0.47811643 -0.47367361 -0.4745452  -0.48204268  3.25137334\n",
      "  -1.61470971 -0.73769513 -0.56568542 -0.51015154  0.90258736]\n",
      " [ 1.86724688  0.39581356 -0.47367361 -0.4745452  -0.48204268 -0.30756234\n",
      "   0.61930636 -0.73769513  1.76776695 -0.51015154 -1.10792599]\n",
      " [-2.13431687 -0.22408312  0.76762988  2.24747049 -0.48204268 -0.30756234\n",
      "   0.61930636 -0.73769513 -0.56568542 -0.51015154  0.90258736]\n",
      " [-0.21048814 -0.42425614  2.00893337 -0.4745452  -0.48204268 -0.30756234\n",
      "   0.61930636  1.35557354 -0.56568542 -0.51015154  0.90258736]\n",
      " [-1.21087908 -0.0429555  -0.47367361  0.43279337  2.0745051  -0.30756234\n",
      "  -1.61470971  1.35557354 -0.56568542  1.96020185 -1.10792599]]\n"
     ]
    }
   ],
   "source": [
    "print x_scaled[0:10,:]"
   ]
  },
  {
   "cell_type": "code",
   "execution_count": 35,
   "metadata": {
    "collapsed": false,
    "deletable": true,
    "editable": true
   },
   "outputs": [
    {
     "data": {
      "text/plain": [
       "array([ -1.75442651e-16,   3.98733297e-18,   5.38289951e-17,\n",
       "         4.38606627e-17,  -1.99366649e-17,   0.00000000e+00,\n",
       "        -4.98416622e-17,   3.98733297e-17,  -7.57593265e-17,\n",
       "         1.99366649e-17,  -6.77846605e-17])"
      ]
     },
     "execution_count": 35,
     "metadata": {},
     "output_type": "execute_result"
    }
   ],
   "source": [
    "x_scaled.mean(axis=0)"
   ]
  },
  {
   "cell_type": "code",
   "execution_count": 34,
   "metadata": {
    "collapsed": false,
    "deletable": true,
    "editable": true
   },
   "outputs": [
    {
     "data": {
      "text/plain": [
       "Age       29.735277\n",
       "Fare      32.204208\n",
       "Parch      0.381594\n",
       "SibSp      0.523008\n",
       "C          0.188552\n",
       "Q          0.086420\n",
       "S          0.722783\n",
       "female     0.352413\n",
       "1          0.242424\n",
       "2          0.206510\n",
       "3          0.551066\n",
       "dtype: float64"
      ]
     },
     "execution_count": 34,
     "metadata": {},
     "output_type": "execute_result"
    }
   ],
   "source": [
    "x_test.mean()"
   ]
  },
  {
   "cell_type": "code",
   "execution_count": 16,
   "metadata": {
    "collapsed": true,
    "deletable": true,
    "editable": true
   },
   "outputs": [],
   "source": [
    "##################################################################################\n",
    "###################### PCA (Principle Component Analysis) ########################\n",
    "##################################################################################"
   ]
  },
  {
   "cell_type": "code",
   "execution_count": 17,
   "metadata": {
    "collapsed": true,
    "deletable": true,
    "editable": true
   },
   "outputs": [],
   "source": [
    "from sklearn import decomposition"
   ]
  },
  {
   "cell_type": "code",
   "execution_count": 18,
   "metadata": {
    "collapsed": false,
    "deletable": true,
    "editable": true
   },
   "outputs": [],
   "source": [
    "pca = decomposition.PCA(n_components=2)\n",
    "x_train_pca = pca.fit_transform(x_scaled)\n",
    "x_test_pca  = pca.transform(x_scaled_test)"
   ]
  },
  {
   "cell_type": "code",
   "execution_count": 19,
   "metadata": {
    "collapsed": false,
    "deletable": true,
    "editable": true
   },
   "outputs": [
    {
     "name": "stdout",
     "output_type": "stream",
     "text": [
      "[[-1.52478306  0.1041834 ]\n",
      " [ 3.42734368  1.0261373 ]\n",
      " [-1.09296578  0.1218428 ]\n",
      " [ 1.53924197 -1.04805805]\n",
      " [-1.26395846 -0.01998167]\n",
      " [-1.00843481  2.80907169]\n",
      " [ 1.55824463 -1.28258981]\n",
      " [-1.76208482  0.2126636 ]\n",
      " [-0.96549183 -0.02033676]\n",
      " [ 1.34005432  0.44061068]] \n",
      "[[-1.52478306  0.1041834 ]\n",
      " [ 3.42734368  1.0261373 ]\n",
      " [-1.09296578  0.1218428 ]]\n"
     ]
    }
   ],
   "source": [
    "print x_train_pca[0:10,:], \"\\n\", x_test_pca[0:3,:],"
   ]
  },
  {
   "cell_type": "code",
   "execution_count": 20,
   "metadata": {
    "collapsed": false,
    "deletable": true,
    "editable": true
   },
   "outputs": [
    {
     "data": {
      "image/png": "[encoded data removed]",
      "text/plain": [
       "<matplotlib.figure.Figure at 0x7f64d05c0f90>"
      ]
     },
     "metadata": {},
     "output_type": "display_data"
    }
   ],
   "source": [
    "plot_embedding(x_train_pca, y_train.values)"
   ]
  },
  {
   "cell_type": "code",
   "execution_count": null,
   "metadata": {
    "collapsed": true,
    "deletable": true,
    "editable": true
   },
   "outputs": [],
   "source": [
    "##################################################################################\n",
    "###################### ICA (Independent Component Analysis) ######################\n",
    "##################################################################################"
   ]
  },
  {
   "cell_type": "code",
   "execution_count": 21,
   "metadata": {
    "collapsed": false,
    "deletable": true,
    "editable": true
   },
   "outputs": [],
   "source": [
    "ica = decomposition.FastICA(n_components=2)\n",
    "x_train_ica = ica.fit_transform(x_scaled)\n",
    "x_test_ica  = ica.transform(x_scaled_test)"
   ]
  },
  {
   "cell_type": "code",
   "execution_count": 22,
   "metadata": {
    "collapsed": false,
    "deletable": true,
    "editable": true
   },
   "outputs": [
    {
     "name": "stdout",
     "output_type": "stream",
     "text": [
      "[[-0.02683315 -0.01758327]\n",
      " [ 0.04187508  0.06338672]\n",
      " [-0.01992407 -0.01171067]\n",
      " [ 0.04088272 -0.00010331]\n",
      " [-0.02068727 -0.01658913]\n",
      " [-0.05783711  0.04025548]\n",
      " [ 0.0446295  -0.0043004 ]\n",
      " [-0.03235911 -0.01857272]\n",
      " [-0.01572802 -0.0127679 ]\n",
      " [ 0.01579622  0.02552959]] \n",
      "[[-0.02683315 -0.01758327]\n",
      " [ 0.04187508  0.06338672]\n",
      " [-0.01992407 -0.01171067]]\n"
     ]
    }
   ],
   "source": [
    "print x_train_ica[0:10,:], \"\\n\", x_test_ica[0:3,:],"
   ]
  },
  {
   "cell_type": "code",
   "execution_count": 23,
   "metadata": {
    "collapsed": false,
    "deletable": true,
    "editable": true
   },
   "outputs": [
    {
     "data": {
      "image/png": "[encoded data removed]",
      "text/plain": [
       "<matplotlib.figure.Figure at 0x7f64cab97390>"
      ]
     },
     "metadata": {},
     "output_type": "display_data"
    }
   ],
   "source": [
    "plot_embedding(x_train_ica, y_train.values)"
   ]
  },
  {
   "cell_type": "code",
   "execution_count": 24,
   "metadata": {
    "collapsed": true,
    "deletable": true,
    "editable": true
   },
   "outputs": [],
   "source": [
    "##################################################################################\n",
    "############### tSNE (t-distributed Stochastic Neighbor Embedding.) ##############\n",
    "##################################################################################"
   ]
  },
  {
   "cell_type": "code",
   "execution_count": 25,
   "metadata": {
    "collapsed": true,
    "deletable": true,
    "editable": true
   },
   "outputs": [],
   "source": [
    "from sklearn  import manifold"
   ]
  },
  {
   "cell_type": "code",
   "execution_count": 26,
   "metadata": {
    "collapsed": false,
    "deletable": true,
    "editable": true
   },
   "outputs": [],
   "source": [
    "tsne = manifold.TSNE(n_components=2, random_state=0)\n",
    "# np.set_printoptions(suppress=True)\n",
    "x_train_tsne = tsne.fit_transform(x_scaled, y=y_train)\n",
    "#x_test_tsne  = tsne.transform(x_scaled_test)"
   ]
  },
  {
   "cell_type": "code",
   "execution_count": 27,
   "metadata": {
    "collapsed": false,
    "deletable": true,
    "editable": true
   },
   "outputs": [
    {
     "name": "stdout",
     "output_type": "stream",
     "text": [
      "[[  9.729231   -12.54894064]\n",
      " [ 12.98835514  -3.24838935]\n",
      " [  3.90390269   7.78883971]\n",
      " [ -9.09711583   6.35885297]\n",
      " [  9.99958454   5.04513542]\n",
      " [ -5.02607596  23.16174587]\n",
      " [-13.93573133  -6.38286387]\n",
      " [ -4.81986836   9.97292906]\n",
      " [ -0.23197608   7.31218444]\n",
      " [ 19.31801488  -4.30967885]]\n"
     ]
    }
   ],
   "source": [
    "print x_train_tsne[0:10,:]"
   ]
  },
  {
   "cell_type": "code",
   "execution_count": 28,
   "metadata": {
    "collapsed": false,
    "deletable": true,
    "editable": true
   },
   "outputs": [
    {
     "data": {
      "image/png": "[encoded data removed]",
      "text/plain": [
       "<matplotlib.figure.Figure at 0x7f64caa41710>"
      ]
     },
     "metadata": {},
     "output_type": "display_data"
    }
   ],
   "source": [
    "plot_embedding(x_train_tsne, y_train.values)"
   ]
  },
  {
   "cell_type": "code",
   "execution_count": 29,
   "metadata": {
    "collapsed": true,
    "deletable": true,
    "editable": true
   },
   "outputs": [],
   "source": [
    "##################################################################################\n",
    "########################### ISOMap (Isometric Mapping) ###########################\n",
    "##################################################################################"
   ]
  },
  {
   "cell_type": "code",
   "execution_count": 30,
   "metadata": {
    "collapsed": false,
    "deletable": true,
    "editable": true
   },
   "outputs": [],
   "source": [
    "iso = manifold.Isomap(n_components=2)\n",
    "x_train_iso = iso.fit_transform(x_scaled, y=y_train)\n",
    "x_test_iso  = iso.transform(x_scaled_test)"
   ]
  },
  {
   "cell_type": "code",
   "execution_count": 31,
   "metadata": {
    "collapsed": false,
    "deletable": true,
    "editable": true
   },
   "outputs": [
    {
     "name": "stdout",
     "output_type": "stream",
     "text": [
      "[[ -7.24544966   4.25383565]\n",
      " [  2.28842994   0.27508755]\n",
      " [ -6.93103634  -6.04268785]\n",
      " [  2.18016429   0.18068272]\n",
      " [ -8.24162739   0.66161769]\n",
      " [ 25.6426373    1.52824066]\n",
      " [  2.24326094   0.25386129]\n",
      " [ -9.26720956   9.0270269 ]\n",
      " [ -1.04040247  -8.24479917]\n",
      " [  2.34601958   0.32472558]]\n"
     ]
    }
   ],
   "source": [
    "print x_train_iso[0:10,:]"
   ]
  },
  {
   "cell_type": "code",
   "execution_count": 32,
   "metadata": {
    "collapsed": false,
    "deletable": true,
    "editable": true
   },
   "outputs": [
    {
     "data": {
      "image/png": "[encoded data removed]",
      "text/plain": [
       "<matplotlib.figure.Figure at 0x7f64c9d135d0>"
      ]
     },
     "metadata": {},
     "output_type": "display_data"
    }
   ],
   "source": [
    "plot_embedding(x_train_iso, y_train.values)"
   ]
  },
  {
   "cell_type": "code",
   "execution_count": null,
   "metadata": {
    "collapsed": true,
    "deletable": true,
    "editable": true
   },
   "outputs": [],
   "source": []
  }
 ],
 "metadata": {
  "kernelspec": {
   "display_name": "Python 2",
   "language": "python",
   "name": "python2"
  },
  "language_info": {
   "codemirror_mode": {
    "name": "ipython",
    "version": 2
   },
   "file_extension": ".py",
   "mimetype": "text/x-python",
   "name": "python",
   "nbconvert_exporter": "python",
   "pygments_lexer": "ipython2",
   "version": "2.7.12"
  }
 },
 "nbformat": 4,
 "nbformat_minor": 2
}
